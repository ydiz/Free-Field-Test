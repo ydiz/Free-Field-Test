{
 "cells": [
  {
   "cell_type": "code",
   "execution_count": 1,
   "metadata": {},
   "outputs": [],
   "source": [
    "import numpy as np\n",
    "\n",
    "def my_matmul(mat_list):\n",
    "    # mat_list is an iterable of 1) matrices or 2) field of matrices\n",
    "    return reduce(lambda x, y: np.matmul(x, y), mat_list)\n",
    "    \n",
    "def adj(a): # hermitian conjugate on last two axis\n",
    "    return np.conj(np.moveaxis(a, -2, -1)) # transpose doesn't work; so used moveaxis\n",
    "\n",
    "def trace(a): # race on last two axis\n",
    "    return np.trace(a, axis1=-2, axis2=-1)\n",
    "\n",
    "#  Grid/documentation/manual.rst \n",
    "#  Grid/documentation/Grid.pdf\n",
    "# \\gamma_x= \\left(\\begin{array}{cccc}    0& 0& 0& i\\\\  0& 0& i& 0\\\\  0&-i& 0& 0\\\\ -i& 0& 0& 0 \\end{array}\\right)\n",
    "# \\gamma_y= \\left(\\begin{array}{cccc}    0& 0& 0&-1\\\\  0& 0& 1& 0\\\\  0& 1& 0& 0\\\\ -1& 0& 0& 0 \\end{array}\\right)\n",
    "# \\gamma_z= \\left(\\begin{array}{cccc}    0& 0& i& 0\\\\  0& 0& 0&-i\\\\ -i& 0& 0& 0\\\\  0& i& 0& 0 \\end{array}\\right)\n",
    "# \\gamma_t= \\left(\\begin{array}{cccc}    0& 0& 1& 0\\\\  0& 0& 0& 1\\\\  1& 0& 0& 0\\\\  0& 1& 0& 0 \\end{array}\\right)\n",
    "# \\gamma_5= \\left(\\begin{array}{cccc}    1& 0& 0& 0\\\\  0& 1& 0& 0\\\\  0& 0&-1 &0\\\\  0& 0& 0&-1 \\end{array}\\right)\n",
    "\n",
    "# https://en.wikipedia.org/wiki/Gamma_matrices#Euclidean_Dirac_matrices\n",
    "# p.s. this is the same as Bigeng's convention \n",
    "# /home/bw2482/Research/2020/Free_Field_Inami_Lim_check/v3_heavy_up/Gmat.m\n",
    "\n",
    "gamma_mu = np.array([\n",
    "    [[0,0,0,1j], \n",
    "     [0,0,1j,0], \n",
    "     [0,-1j,0,0], \n",
    "     [-1j,0,0,0]], # gamma_x\n",
    "    \n",
    "    [[0,0,0,-1], \n",
    "     [0,0,1,0], \n",
    "     [0,1,0,0], \n",
    "     [-1,0,0,0]], # gamma_y\n",
    "    \n",
    "    [[0,0,1j,0], \n",
    "     [0,0,0,-1j], \n",
    "     [-1j,0,0,0], \n",
    "     [0,1j,0,0]], # gamma_z\n",
    "    \n",
    "    [[0,0,1,0],\n",
    "     [0,0,0,1], \n",
    "     [1,0,0,0], \n",
    "     [0,1,0,0]], # gamma_t\n",
    "])\n",
    "gamma5 = np.array(\n",
    "    [[1,0,0,0], \n",
    "     [0,1,0,0], \n",
    "     [0,0,-1,0], \n",
    "     [0,0,0,-1]],\n",
    "dtype='complex128')\n",
    "\n",
    "# Check gamma1 * gamma2 * gamma3 * gamm4 == gamma5\n",
    "from functools import reduce\n",
    "assert np.allclose(my_matmul(gamma_mu),  gamma5)\n",
    "assert trace(np.matmul(gamma_mu[1], gamma_mu[1])) == 4"
   ]
  },
  {
   "cell_type": "code",
   "execution_count": 2,
   "metadata": {},
   "outputs": [],
   "source": [
    "m_f = 0.06\n",
    "M5 = 1.0\n",
    "\n",
    "# lat_size = np.array([4,4,4,4])\n",
    "LAT_SIZE = np.array([8,8,8,8])\n",
    "# LAT_SIZE = np.array([16,16,16,16])\n",
    "\n"
   ]
  },
  {
   "cell_type": "markdown",
   "metadata": {},
   "source": [
    "# Point source propagator"
   ]
  },
  {
   "cell_type": "code",
   "execution_count": 3,
   "metadata": {},
   "outputs": [],
   "source": [
    "def calc_point_prop(M5, m_f, LAT_SIZE):\n",
    "\n",
    "    a_5 = 1.0 \n",
    "    a = 1.0\n",
    "    eta = a_5 / a\n",
    "\n",
    "    r = 1.00\n",
    "    \n",
    "    VOL = np.prod(LAT_SIZE)\n",
    "    \n",
    "    # coor = (coor[0], ... coor[3]);  coor[0] : the x coordinate of all sites\n",
    "    coor = np.meshgrid(*[range(x) for x in LAT_SIZE], indexing='ij') # shape: (4, Lx, Ly, Lz, Lt)\n",
    "    pmu_a = 2 * np.pi / LAT_SIZE.reshape(4,1,1,1,1) * coor  # p.s. pmu_a is dimensionaless\n",
    " \n",
    "    W = (1 - M5) + r * eta * np.sum(1 - np.cos(pmu_a), axis=0) # W shape: (Lx, Ly, Lz, Lt)\n",
    "\n",
    "    x = eta**2 * np.sum(np.sin(pmu_a)**2, axis=0)\n",
    "    alpha = np.arccosh(  ((1 + W**2 + x) / (2 * W)).astype(dtype=np.complex)  )  # Taku Eq. 42\n",
    "\n",
    "    # fp(0,0,0,0) = inf; will be RuntimeWarning: divide by zero encountered in true_divide; \n",
    "    # We deal with the zero mode separately. It is safe to set fp(0,0,0,0) to 0, and add another term.\n",
    "    f_p = 1 / (W * np.exp(alpha) - 1 + m_f**2 * (1 - W * np.exp(-alpha))) \n",
    "    f_p[0,0,0,0] = 0\n",
    "\n",
    "    cmu_p = -1j * eta * np.sin(pmu_a)\n",
    "    c1_p = - m_f * (1 - W * np.exp(-alpha))\n",
    "\n",
    "    Sx_I_coef = np.fft.ifftn(f_p * c1_p) - 1/m_f/VOL # - 1/m_f/VOL comes from the zero mode\n",
    "    Sx_gmu_coef = [np.fft.ifftn(f_p * cmu_p[mu]) for mu in range(4)]\n",
    "\n",
    "    Sx = Sx_I_coef[..., None, None] * np.eye(4) + \\\n",
    "         sum([Sx_gmu_coef[mu][..., None, None] * gamma_mu[mu] for mu in range(4)])\n",
    "    \n",
    "    return Sx"
   ]
  },
  {
   "cell_type": "code",
   "execution_count": 5,
   "metadata": {},
   "outputs": [
    {
     "name": "stdout",
     "output_type": "stream",
     "text": [
      "(0, 0, 0, 0) (0, 0, 0, 0)\n",
      "(1, 1, 0, 1) (-1, -1, 0, -1)\n",
      "(0, 1, 2, 3) (0, -1, -2, -3)\n"
     ]
    },
    {
     "name": "stderr",
     "output_type": "stream",
     "text": [
      "<ipython-input-3-282614f462ed>:18: RuntimeWarning: divide by zero encountered in true_divide\n",
      "  alpha = np.arccosh(  ((1 + W**2 + x) / (2 * W)).astype(dtype=np.complex)  )  # Taku Eq. 42\n",
      "<ipython-input-3-282614f462ed>:22: RuntimeWarning: invalid value encountered in multiply\n",
      "  f_p = 1 / (W * np.exp(alpha) - 1 + m_f**2 * (1 - W * np.exp(-alpha)))\n"
     ]
    }
   ],
   "source": [
    "# gamma5 hermiticity test\n",
    "\n",
    "Sx = calc_point_prop(M5=M5, m_f=m_f, LAT_SIZE=LAT_SIZE)\n",
    "Sx.real[abs(Sx.real) < 1e-10] = 0   # Set very small values to 0\n",
    "Sx.imag[abs(Sx.imag) < 1e-10] = 0   # Set very small values to 0\n",
    "\n",
    "tmp = my_matmul([gamma5, adj(Sx), gamma5])\n",
    "for site in [(0,0,0,0), (1,1,0,1), (0,1,2,3)]:\n",
    "    minus_site = tuple(-x for x in site)\n",
    "    print(site, minus_site)\n",
    "    assert np.allclose(Sx[minus_site], tmp[site])    "
   ]
  },
  {
   "cell_type": "code",
   "execution_count": 6,
   "metadata": {},
   "outputs": [
    {
     "data": {
      "text/plain": [
       "array([[-0.00402012+0.j        ,  0.        +0.j        ,\n",
       "         0.        +0.00013551j, -0.00017011+0.00013735j],\n",
       "       [ 0.        +0.j        , -0.00402012+0.j        ,\n",
       "         0.00017011+0.00013735j,  0.        -0.00013551j],\n",
       "       [ 0.        -0.00013551j,  0.00017011-0.00013735j,\n",
       "        -0.00402012+0.j        ,  0.        +0.j        ],\n",
       "       [-0.00017011-0.00013735j,  0.        +0.00013551j,\n",
       "         0.        +0.j        , -0.00402012+0.j        ]])"
      ]
     },
     "execution_count": 6,
     "metadata": {},
     "output_type": "execute_result"
    }
   ],
   "source": [
    "Sx[1,2,3,4]"
   ]
  },
  {
   "cell_type": "markdown",
   "metadata": {},
   "source": [
    "# Wall source propagator"
   ]
  },
  {
   "cell_type": "code",
   "execution_count": 7,
   "metadata": {},
   "outputs": [],
   "source": [
    "def calc_wall_prop(M5, m_f, LAT_SIZE):\n",
    "    \n",
    "    L_T = LAT_SIZE[3]\n",
    "\n",
    "    a_5 = 1.0\n",
    "    a = 1.0\n",
    "    eta = a_5 / a\n",
    "\n",
    "    r = 1.00\n",
    "    \n",
    "    pt_a = 2 * np.pi / L_T * np.arange(L_T)  # p.s. pmu_a is dimensionaless\n",
    "\n",
    "    W = (1 - M5) + r * eta * (1 - np.cos(pt_a)) # W shape: (Lx, Ly, Lz, Lt)\n",
    "\n",
    "    x = eta**2 * np.sin(pt_a)**2\n",
    "    alpha = np.arccosh(  ((1 + W**2 + x) / (2 * W)).astype(dtype=np.complex)  )  # Taku Eq. 42\n",
    "\n",
    "    # fp(0,0,0,0) = inf; will be RuntimeWarning: divide by zero encountered in true_divide; \n",
    "    # We deal with the zero mode separately. It is safe to set fp(0,0,0,0) to 0, and add another term.\n",
    "    f_p = 1 / (W * np.exp(alpha) - 1 + m_f**2 * (1 - W * np.exp(-alpha))) \n",
    "    f_p[0] = 0\n",
    "\n",
    "    cmu_pt = -1j * eta * np.sin(pt_a)\n",
    "    c1_p = - m_f * (1 - W * np.exp(-alpha))\n",
    "\n",
    "    St_I_coef = np.fft.ifftn(f_p * c1_p) - 1/m_f/L_T # - 1/m_f/VOL comes from the zero mode\n",
    "    St_gamma4_coef = np.fft.ifftn(f_p * cmu_pt)\n",
    "\n",
    "    St = St_I_coef[..., None, None] * np.eye(4) + \\\n",
    "            St_gamma4_coef[..., None, None] * gamma_mu[3]\n",
    "    \n",
    "    return St\n",
    "    "
   ]
  },
  {
   "cell_type": "code",
   "execution_count": 8,
   "metadata": {},
   "outputs": [
    {
     "name": "stdout",
     "output_type": "stream",
     "text": [
      "0 0\n",
      "1 -1\n",
      "2 -2\n",
      "3 -3\n",
      "4 -4\n",
      "5 -5\n",
      "6 -6\n",
      "7 -7\n"
     ]
    },
    {
     "name": "stderr",
     "output_type": "stream",
     "text": [
      "<ipython-input-7-4e986669fb45>:16: RuntimeWarning: divide by zero encountered in true_divide\n",
      "  alpha = np.arccosh(  ((1 + W**2 + x) / (2 * W)).astype(dtype=np.complex)  )  # Taku Eq. 42\n",
      "<ipython-input-7-4e986669fb45>:20: RuntimeWarning: invalid value encountered in multiply\n",
      "  f_p = 1 / (W * np.exp(alpha) - 1 + m_f**2 * (1 - W * np.exp(-alpha)))\n"
     ]
    }
   ],
   "source": [
    "# gamma5 hermiticity test\n",
    "\n",
    "St = calc_wall_prop(M5=M5, m_f=m_f, LAT_SIZE=LAT_SIZE)\n",
    "St.real[abs(St.real) < 1e-10] = 0   # Set very small values to 0\n",
    "St.imag[abs(St.imag) < 1e-10] = 0   # Set very small values to 0\n",
    "\n",
    "tmp = my_matmul([gamma5, adj(St), gamma5])\n",
    "for site in range(0, LAT_SIZE[3]):\n",
    "    minus_site = -site\n",
    "    print(site, minus_site)\n",
    "    assert np.allclose(St[minus_site], tmp[site])    "
   ]
  },
  {
   "cell_type": "code",
   "execution_count": 9,
   "metadata": {
    "collapsed": true
   },
   "outputs": [
    {
     "name": "stdout",
     "output_type": "stream",
     "text": [
      "t = 0\n",
      "[[-2.11671812+0.j  0.        +0.j  0.        +0.j  0.        +0.j]\n",
      " [ 0.        +0.j -2.11671812+0.j  0.        +0.j  0.        +0.j]\n",
      " [ 0.        +0.j  0.        +0.j -2.11671812+0.j  0.        +0.j]\n",
      " [ 0.        +0.j  0.        +0.j  0.        +0.j -2.11671812+0.j]]\n",
      "t = 1\n",
      "[[-2.10133284+0.j  0.        +0.j  0.43672424+0.j  0.        +0.j]\n",
      " [ 0.        +0.j -2.10133284+0.j  0.        +0.j  0.43672424+0.j]\n",
      " [ 0.43672424+0.j  0.        +0.j -2.10133284+0.j  0.        +0.j]\n",
      " [ 0.        +0.j  0.43672424+0.j  0.        +0.j -2.10133284+0.j]]\n",
      "t = 2\n",
      "[[-2.07761171+0.j  0.        +0.j  0.26378414+0.j  0.        +0.j]\n",
      " [ 0.        +0.j -2.07761171+0.j  0.        +0.j  0.26378414+0.j]\n",
      " [ 0.26378414+0.j  0.        +0.j -2.07761171+0.j  0.        +0.j]\n",
      " [ 0.        +0.j  0.26378414+0.j  0.        +0.j -2.07761171+0.j]]\n",
      "t = 3\n",
      "[[-2.06533383+0.j  0.        +0.j  0.12813158+0.j  0.        +0.j]\n",
      " [ 0.        +0.j -2.06533383+0.j  0.        +0.j  0.12813158+0.j]\n",
      " [ 0.12813158+0.j  0.        +0.j -2.06533383+0.j  0.        +0.j]\n",
      " [ 0.        +0.j  0.12813158+0.j  0.        +0.j -2.06533383+0.j]]\n",
      "t = 4\n",
      "[[-2.0613918+0.j  0.       +0.j  0.       +0.j  0.       +0.j]\n",
      " [ 0.       +0.j -2.0613918+0.j  0.       +0.j  0.       +0.j]\n",
      " [ 0.       +0.j  0.       +0.j -2.0613918+0.j  0.       +0.j]\n",
      " [ 0.       +0.j  0.       +0.j  0.       +0.j -2.0613918+0.j]]\n",
      "t = 5\n",
      "[[-2.06533383+0.j  0.        +0.j -0.12813158+0.j  0.        +0.j]\n",
      " [ 0.        +0.j -2.06533383+0.j  0.        +0.j -0.12813158+0.j]\n",
      " [-0.12813158+0.j  0.        +0.j -2.06533383+0.j  0.        +0.j]\n",
      " [ 0.        +0.j -0.12813158+0.j  0.        +0.j -2.06533383+0.j]]\n",
      "t = 6\n",
      "[[-2.07761171+0.j  0.        +0.j -0.26378414+0.j  0.        +0.j]\n",
      " [ 0.        +0.j -2.07761171+0.j  0.        +0.j -0.26378414+0.j]\n",
      " [-0.26378414+0.j  0.        +0.j -2.07761171+0.j  0.        +0.j]\n",
      " [ 0.        +0.j -0.26378414+0.j  0.        +0.j -2.07761171+0.j]]\n",
      "t = 7\n",
      "[[-2.10133284+0.j  0.        +0.j -0.43672424+0.j  0.        +0.j]\n",
      " [ 0.        +0.j -2.10133284+0.j  0.        +0.j -0.43672424+0.j]\n",
      " [-0.43672424+0.j  0.        +0.j -2.10133284+0.j  0.        +0.j]\n",
      " [ 0.        +0.j -0.43672424+0.j  0.        +0.j -2.10133284+0.j]]\n"
     ]
    }
   ],
   "source": [
    "for t in range(LAT_SIZE[3]):\n",
    "    print('t =', t)\n",
    "    print(St[t])"
   ]
  },
  {
   "cell_type": "markdown",
   "metadata": {},
   "source": [
    "# EM factor"
   ]
  },
  {
   "cell_type": "code",
   "execution_count": 11,
   "metadata": {},
   "outputs": [
    {
     "name": "stderr",
     "output_type": "stream",
     "text": [
      "<ipython-input-11-8434f0165444>:11: RuntimeWarning: invalid value encountered in true_divide\n",
      "  tmp = np.exp(M_K * rt / 2) \\\n"
     ]
    }
   ],
   "source": [
    "def EM_factor(M_K, LAT_SIZE):\n",
    "    r = np.meshgrid(*[range(x) for x in LAT_SIZE], indexing='ij') # shape: (4, Lx, Ly, Lz, Lt)\n",
    "\n",
    "    for mu in range(4):  # IMPORTANT: if coor is greater than L/2, MUST map to coor - L.\n",
    "        L = LAT_SIZE[mu]\n",
    "        r[mu] = np.where(r[mu] <= L//2, r[mu], r[mu] - L)\n",
    "\n",
    "    r3d_norm = np.sqrt(sum([r[i]**2 for i in range(3)])) # |vec{r}|\n",
    "    rt = r[3]   # r_t\n",
    "\n",
    "    tmp = np.exp(M_K * rt / 2) \\\n",
    "            * (  - M_K * r3d_norm * np.cos(M_K * r3d_norm / 2) + 2 * np.sin(M_K * r3d_norm / 2)  ) \\\n",
    "            / np.power(r3d_norm, 3)\n",
    "\n",
    "    tmp[0,0,0] = 0.\n",
    "\n",
    "    Euv = np.zeros((*LAT_SIZE, 4,4))\n",
    "\n",
    "    Euv[..., 0, 1] = r[2] * tmp\n",
    "    Euv[..., 0, 2] = - r[1] * tmp\n",
    "    Euv[..., 1, 2] = r[0] * tmp\n",
    "    Euv[..., 1, 0] = - Euv[..., 0, 1]\n",
    "    Euv[..., 2, 0] = - Euv[..., 0, 2]\n",
    "    Euv[..., 2, 1] = - Euv[..., 1, 2]\n",
    "    return Euv\n",
    "\n",
    "M_K = 0.5  # In C++, set M_K to the same value !!!\n",
    "Euv = EM_factor(M_K=M_K, LAT_SIZE=LAT_SIZE)"
   ]
  },
  {
   "cell_type": "code",
   "execution_count": 12,
   "metadata": {},
   "outputs": [
    {
     "data": {
      "text/plain": [
       "array([[ 0.        ,  0.0427687 , -0.05702493,  0.        ],\n",
       "       [-0.0427687 ,  0.        , -0.02851247,  0.        ],\n",
       "       [ 0.05702493,  0.02851247,  0.        ,  0.        ],\n",
       "       [ 0.        ,  0.        ,  0.        ,  0.        ]])"
      ]
     },
     "execution_count": 12,
     "metadata": {},
     "output_type": "execute_result"
    }
   ],
   "source": [
    "Euv[6,4,3,2]"
   ]
  },
  {
   "cell_type": "code",
   "execution_count": null,
   "metadata": {},
   "outputs": [],
   "source": []
  }
 ],
 "metadata": {
  "kernelspec": {
   "display_name": "Python 3",
   "language": "python",
   "name": "python3"
  },
  "language_info": {
   "codemirror_mode": {
    "name": "ipython",
    "version": 3
   },
   "file_extension": ".py",
   "mimetype": "text/x-python",
   "name": "python",
   "nbconvert_exporter": "python",
   "pygments_lexer": "ipython3",
   "version": "3.8.6"
  }
 },
 "nbformat": 4,
 "nbformat_minor": 2
}
